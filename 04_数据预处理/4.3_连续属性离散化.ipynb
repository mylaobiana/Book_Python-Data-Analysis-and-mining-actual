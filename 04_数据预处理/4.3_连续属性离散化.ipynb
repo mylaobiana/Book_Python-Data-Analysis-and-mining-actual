{
 "cells": [
  {
   "cell_type": "code",
   "execution_count": 20,
   "metadata": {},
   "outputs": [
    {
     "data": {
      "text/html": [
       "<div>\n",
       "<style scoped>\n",
       "    .dataframe tbody tr th:only-of-type {\n",
       "        vertical-align: middle;\n",
       "    }\n",
       "\n",
       "    .dataframe tbody tr th {\n",
       "        vertical-align: top;\n",
       "    }\n",
       "\n",
       "    .dataframe thead th {\n",
       "        text-align: right;\n",
       "    }\n",
       "</style>\n",
       "<table border=\"1\" class=\"dataframe\">\n",
       "  <thead>\n",
       "    <tr style=\"text-align: right;\">\n",
       "      <th></th>\n",
       "      <th>肝气郁结证型系数</th>\n",
       "    </tr>\n",
       "  </thead>\n",
       "  <tbody>\n",
       "    <tr>\n",
       "      <th>0</th>\n",
       "      <td>0.056</td>\n",
       "    </tr>\n",
       "    <tr>\n",
       "      <th>1</th>\n",
       "      <td>0.488</td>\n",
       "    </tr>\n",
       "    <tr>\n",
       "      <th>2</th>\n",
       "      <td>0.107</td>\n",
       "    </tr>\n",
       "    <tr>\n",
       "      <th>3</th>\n",
       "      <td>0.322</td>\n",
       "    </tr>\n",
       "    <tr>\n",
       "      <th>4</th>\n",
       "      <td>0.242</td>\n",
       "    </tr>\n",
       "  </tbody>\n",
       "</table>\n",
       "</div>"
      ],
      "text/plain": [
       "   肝气郁结证型系数\n",
       "0     0.056\n",
       "1     0.488\n",
       "2     0.107\n",
       "3     0.322\n",
       "4     0.242"
      ]
     },
     "execution_count": 20,
     "metadata": {},
     "output_type": "execute_result"
    }
   ],
   "source": [
    "import numpy as np\n",
    "import pandas as pd\n",
    "inputFile = '.\\chapter4\\demo\\data\\discretization_data.xls'\n",
    "data = pd.read_excel(inputFile)\n",
    "data.head()"
   ]
  },
  {
   "cell_type": "code",
   "execution_count": 21,
   "metadata": {},
   "outputs": [],
   "source": [
    "data = data['肝气郁结证型系数'].copy()\n",
    "k = ['A1', 'A2', 'A3', 'A4']  # 分为 4 类"
   ]
  },
  {
   "cell_type": "markdown",
   "metadata": {},
   "source": [
    "## 等宽离散化"
   ]
  },
  {
   "cell_type": "code",
   "execution_count": 22,
   "metadata": {},
   "outputs": [
    {
     "data": {
      "text/plain": [
       "A2    508\n",
       "A3    275\n",
       "A1    112\n",
       "A4     35\n",
       "Name: 肝气郁结证型系数, dtype: int64"
      ]
     },
     "execution_count": 22,
     "metadata": {},
     "output_type": "execute_result"
    }
   ],
   "source": [
    "d1 = pd.cut(x=data, bins=len(k), labels=k)\n",
    "d1.value_counts()"
   ]
  },
  {
   "cell_type": "markdown",
   "metadata": {},
   "source": [
    "## 等频离散化"
   ]
  },
  {
   "cell_type": "code",
   "execution_count": null,
   "metadata": {},
   "outputs": [],
   "source": [
    "# 这个是书上的写法\n",
    "# w = [1.0*i/k for i in range(k+1)]\n",
    "# w = data.describe(percentiles = w)[4:4+k+1] #使用describe函数自动计算分位数\n",
    "# w[0] = w[0]*(1-1e-10)\n",
    "# d2_book = pd.cut(data, w, labels = range(k))\n",
    "# d2_book.value_counts()"
   ]
  },
  {
   "cell_type": "code",
   "execution_count": 23,
   "metadata": {},
   "outputs": [
    {
     "data": {
      "text/plain": [
       "A2    234\n",
       "A4    233\n",
       "A1    233\n",
       "A3    230\n",
       "Name: 肝气郁结证型系数, dtype: int64"
      ]
     },
     "execution_count": 23,
     "metadata": {},
     "output_type": "execute_result"
    }
   ],
   "source": [
    "d2 = pd.qcut(x=data,q=len(k), labels=k)\n",
    "d2.value_counts()"
   ]
  },
  {
   "cell_type": "markdown",
   "metadata": {},
   "source": [
    "## 聚类（KMeans）"
   ]
  },
  {
   "cell_type": "code",
   "execution_count": null,
   "metadata": {},
   "outputs": [],
   "source": [
    "# # 这是书上的写法\n",
    "# from sklearn.cluster import KMeans                          # 导入 KMeans\n",
    "# kmodel = KMeans(n_clusters= 4, n_jobs= 2)                   # 建立模型，n_jobs 为并行数，一般等于 CPU 数\n",
    "# kmodel.fit(data.reshape(len(data), 1))                      # 训练模型\n",
    "# c = pd.DataFrame(kmodel.cluster_centers_).sort_values(by=0) # 输出聚类中心，并且排序（默认是随机顺序）\n",
    "# w = pd.rolling_mean(c, 2).iloc[1:]                          # 相邻两项求中点，作为边界点\n",
    "# w = [0] + list(w[0]) + [data.max()]                         # 加上首末边界点\n",
    "# d3 = pd.cut(x=data, bins=len(k), labels=k)                      # 划分数据\n",
    "# d3.value_counts()"
   ]
  },
  {
   "cell_type": "code",
   "execution_count": 24,
   "metadata": {},
   "outputs": [
    {
     "data": {
      "text/plain": [
       "A2    508\n",
       "A3    275\n",
       "A1    112\n",
       "A4     35\n",
       "Name: 肝气郁结证型系数, dtype: int64"
      ]
     },
     "execution_count": 24,
     "metadata": {},
     "output_type": "execute_result"
    }
   ],
   "source": [
    "from sklearn.cluster import KMeans                          # 导入 KMeans\n",
    "kmodel = KMeans(n_clusters= 4, n_jobs= 2)                   # 建立模型，n_jobs 为并行数，一般等于 CPU 数\n",
    "kmodel.fit(data.values.reshape(len(data), 1))               # 训练模型\n",
    "c = pd.DataFrame(kmodel.cluster_centers_).sort_values(by=0) # 输出聚类中心，并且排序（默认是随机顺序）\n",
    "w = c.rolling(window=2, center=False).mean().iloc[1:]       # 相邻两项求中点，作为边界点\n",
    "w = [0] + list(w[0]) + [data.max()]                         # 加上首末边界点\n",
    "d3 = pd.cut(x=data, bins=len(k), labels=k)                  # 划分数据\n",
    "d3.value_counts()"
   ]
  },
  {
   "cell_type": "code",
   "execution_count": 25,
   "metadata": {},
   "outputs": [
    {
     "data": {
      "image/png": "[encoded data removed]",
      "text/plain": [
       "<matplotlib.figure.Figure at 0x23ce621df28>"
      ]
     },
     "metadata": {},
     "output_type": "display_data"
    },
    {
     "data": {
      "image/png": "[encoded data removed]",
      "text/plain": [
       "<matplotlib.figure.Figure at 0x23ce6f72978>"
      ]
     },
     "metadata": {},
     "output_type": "display_data"
    },
    {
     "data": {
      "image/png": "[encoded data removed]",
      "text/plain": [
       "<matplotlib.figure.Figure at 0x23ce64ddbe0>"
      ]
     },
     "metadata": {},
     "output_type": "display_data"
    }
   ],
   "source": [
    "# 自定义作图函数来显示聚类效果\n",
    "# d 为数据， k 为分类名称列表\n",
    "def cluster_polt(d, k):\n",
    "    import matplotlib.pyplot as plt\n",
    "    plt.rcParams['font.sans-serif'] = ['SimHei']  # 正常显示中文\n",
    "    plt.rcParams['axes.unicode_minus'] = False   # 正常显示负号\n",
    "    \n",
    "    plt.figure(figsize = (8, 3))  # 指定 figure 大小\n",
    "    for i in k:\n",
    "        plt.plot(data[d==i], [i for j in d[d==i]], 'o')  # 绘制\n",
    "        \n",
    "    plt.ylim(-0.5, 4-0.5)  # 设置 Y 轴\n",
    "    return plt\n",
    "\n",
    "cluster_polt(d1, k).show()\n",
    "cluster_polt(d2, k).show()\n",
    "cluster_polt(d3, k).show()"
   ]
  }
 ],
 "metadata": {
  "kernelspec": {
   "display_name": "Python 3",
   "language": "python",
   "name": "python3"
  },
  "language_info": {
   "codemirror_mode": {
    "name": "ipython",
    "version": 3
   },
   "file_extension": ".py",
   "mimetype": "text/x-python",
   "name": "python",
   "nbconvert_exporter": "python",
   "pygments_lexer": "ipython3",
   "version": "3.6.4"
  }
 },
 "nbformat": 4,
 "nbformat_minor": 2
}
