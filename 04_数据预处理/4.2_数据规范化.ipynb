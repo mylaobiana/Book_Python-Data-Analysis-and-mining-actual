{
 "cells": [
  {
   "cell_type": "code",
   "execution_count": 2,
   "metadata": {},
   "outputs": [
    {
     "data": {
      "text/plain": [
       "array([-20, -17, -14, -11,  -8,  -5,  -2,   1,   4,   7,  10,  13,  16,\n",
       "        19])"
      ]
     },
     "execution_count": 2,
     "metadata": {},
     "output_type": "execute_result"
    }
   ],
   "source": [
    "import numpy as np\n",
    "import pandas as pd\n",
    "data  = np.arange(-20, 20, 3)\n",
    "data"
   ]
  },
  {
   "cell_type": "markdown",
   "metadata": {},
   "source": [
    "## 最小-最大规范化"
   ]
  },
  {
   "cell_type": "code",
   "execution_count": 3,
   "metadata": {},
   "outputs": [
    {
     "data": {
      "text/plain": [
       "[0.0,\n",
       " 0.07692307692307693,\n",
       " 0.15384615384615385,\n",
       " 0.23076923076923078,\n",
       " 0.3076923076923077,\n",
       " 0.38461538461538464,\n",
       " 0.46153846153846156,\n",
       " 0.5384615384615384,\n",
       " 0.6153846153846154,\n",
       " 0.6923076923076923,\n",
       " 0.7692307692307693,\n",
       " 0.8461538461538461,\n",
       " 0.9230769230769231,\n",
       " 1.0]"
      ]
     },
     "execution_count": 3,
     "metadata": {},
     "output_type": "execute_result"
    }
   ],
   "source": [
    "a = map(lambda x: (x - data.min()) / (data.max() - data.min()), data)\n",
    "a = list(a)\n",
    "a"
   ]
  },
  {
   "cell_type": "code",
   "execution_count": 4,
   "metadata": {},
   "outputs": [
    {
     "data": {
      "text/plain": [
       "array([0.        , 0.07692308, 0.15384615, 0.23076923, 0.30769231,\n",
       "       0.38461538, 0.46153846, 0.53846154, 0.61538462, 0.69230769,\n",
       "       0.76923077, 0.84615385, 0.92307692, 1.        ])"
      ]
     },
     "execution_count": 4,
     "metadata": {},
     "output_type": "execute_result"
    }
   ],
   "source": [
    "(data - data.min()) / (data.max() - data.min())"
   ]
  },
  {
   "cell_type": "markdown",
   "metadata": {},
   "source": [
    "## 零-均值规范化"
   ]
  },
  {
   "cell_type": "code",
   "execution_count": 5,
   "metadata": {},
   "outputs": [
    {
     "data": {
      "text/plain": [
       "[-1.61245154965971,\n",
       " -1.3643820804812932,\n",
       " -1.116312611302876,\n",
       " -0.8682431421244593,\n",
       " -0.6201736729460423,\n",
       " -0.3721042037676254,\n",
       " -0.12403473458920847,\n",
       " 0.12403473458920847,\n",
       " 0.3721042037676254,\n",
       " 0.6201736729460423,\n",
       " 0.8682431421244593,\n",
       " 1.116312611302876,\n",
       " 1.3643820804812932,\n",
       " 1.61245154965971]"
      ]
     },
     "execution_count": 5,
     "metadata": {},
     "output_type": "execute_result"
    }
   ],
   "source": [
    "a = map(lambda x: (x - data.mean()) / data.std(), data)\n",
    "a = list(a)\n",
    "a"
   ]
  },
  {
   "cell_type": "code",
   "execution_count": 6,
   "metadata": {},
   "outputs": [
    {
     "data": {
      "text/plain": [
       "array([-1.61245155, -1.36438208, -1.11631261, -0.86824314, -0.62017367,\n",
       "       -0.3721042 , -0.12403473,  0.12403473,  0.3721042 ,  0.62017367,\n",
       "        0.86824314,  1.11631261,  1.36438208,  1.61245155])"
      ]
     },
     "execution_count": 6,
     "metadata": {},
     "output_type": "execute_result"
    }
   ],
   "source": [
    "(data - data.mean()) / data.std()"
   ]
  },
  {
   "cell_type": "markdown",
   "metadata": {},
   "source": [
    "## 小数定标规范化"
   ]
  },
  {
   "cell_type": "code",
   "execution_count": 9,
   "metadata": {},
   "outputs": [
    {
     "data": {
      "text/plain": [
       "[-0.2,\n",
       " -0.17,\n",
       " -0.14,\n",
       " -0.11,\n",
       " -0.08,\n",
       " -0.05,\n",
       " -0.02,\n",
       " 0.01,\n",
       " 0.04,\n",
       " 0.07,\n",
       " 0.1,\n",
       " 0.13,\n",
       " 0.16,\n",
       " 0.19]"
      ]
     },
     "execution_count": 9,
     "metadata": {},
     "output_type": "execute_result"
    }
   ],
   "source": [
    "a = map(lambda x: x / (10 ** np.ceil(np.log10(max(abs(data))))), data)\n",
    "a = list(a)\n",
    "a"
   ]
  },
  {
   "cell_type": "code",
   "execution_count": 7,
   "metadata": {},
   "outputs": [
    {
     "data": {
      "text/plain": [
       "array([-0.2 , -0.17, -0.14, -0.11, -0.08, -0.05, -0.02,  0.01,  0.04,\n",
       "        0.07,  0.1 ,  0.13,  0.16,  0.19])"
      ]
     },
     "execution_count": 7,
     "metadata": {},
     "output_type": "execute_result"
    }
   ],
   "source": [
    "data / 10 ** np.ceil(np.log10(max(abs(data))))"
   ]
  }
 ],
 "metadata": {
  "kernelspec": {
   "display_name": "Python 3",
   "language": "python",
   "name": "python3"
  },
  "language_info": {
   "codemirror_mode": {
    "name": "ipython",
    "version": 3
   },
   "file_extension": ".py",
   "mimetype": "text/x-python",
   "name": "python",
   "nbconvert_exporter": "python",
   "pygments_lexer": "ipython3",
   "version": "3.6.4"
  }
 },
 "nbformat": 4,
 "nbformat_minor": 2
}
