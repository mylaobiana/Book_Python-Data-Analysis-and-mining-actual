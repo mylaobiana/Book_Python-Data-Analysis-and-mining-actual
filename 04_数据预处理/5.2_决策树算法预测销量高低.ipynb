{
 "cells": [
  {
   "cell_type": "code",
   "execution_count": 23,
   "metadata": {},
   "outputs": [
    {
     "data": {
      "text/html": [
       "<div>\n",
       "<style scoped>\n",
       "    .dataframe tbody tr th:only-of-type {\n",
       "        vertical-align: middle;\n",
       "    }\n",
       "\n",
       "    .dataframe tbody tr th {\n",
       "        vertical-align: top;\n",
       "    }\n",
       "\n",
       "    .dataframe thead th {\n",
       "        text-align: right;\n",
       "    }\n",
       "</style>\n",
       "<table border=\"1\" class=\"dataframe\">\n",
       "  <thead>\n",
       "    <tr style=\"text-align: right;\">\n",
       "      <th></th>\n",
       "      <th>序号</th>\n",
       "      <th>天气</th>\n",
       "      <th>是否周末</th>\n",
       "      <th>是否有促销</th>\n",
       "      <th>销量</th>\n",
       "    </tr>\n",
       "  </thead>\n",
       "  <tbody>\n",
       "    <tr>\n",
       "      <th>0</th>\n",
       "      <td>1</td>\n",
       "      <td>坏</td>\n",
       "      <td>是</td>\n",
       "      <td>是</td>\n",
       "      <td>高</td>\n",
       "    </tr>\n",
       "    <tr>\n",
       "      <th>1</th>\n",
       "      <td>2</td>\n",
       "      <td>坏</td>\n",
       "      <td>是</td>\n",
       "      <td>是</td>\n",
       "      <td>高</td>\n",
       "    </tr>\n",
       "    <tr>\n",
       "      <th>2</th>\n",
       "      <td>3</td>\n",
       "      <td>坏</td>\n",
       "      <td>是</td>\n",
       "      <td>是</td>\n",
       "      <td>高</td>\n",
       "    </tr>\n",
       "    <tr>\n",
       "      <th>3</th>\n",
       "      <td>4</td>\n",
       "      <td>坏</td>\n",
       "      <td>否</td>\n",
       "      <td>是</td>\n",
       "      <td>高</td>\n",
       "    </tr>\n",
       "    <tr>\n",
       "      <th>4</th>\n",
       "      <td>5</td>\n",
       "      <td>坏</td>\n",
       "      <td>是</td>\n",
       "      <td>是</td>\n",
       "      <td>高</td>\n",
       "    </tr>\n",
       "  </tbody>\n",
       "</table>\n",
       "</div>"
      ],
      "text/plain": [
       "   序号 天气 是否周末 是否有促销 销量\n",
       "0   1  坏    是     是  高\n",
       "1   2  坏    是     是  高\n",
       "2   3  坏    是     是  高\n",
       "3   4  坏    否     是  高\n",
       "4   5  坏    是     是  高"
      ]
     },
     "execution_count": 23,
     "metadata": {},
     "output_type": "execute_result"
    }
   ],
   "source": [
    "# 使用 ID3 决策树算法预测销量高低\n",
    "import pandas as pd\n",
    "inputFile = './chapter5/demo/data/sales_data.xls'\n",
    "data = pd.read_excel(inputFile)\n",
    "data.head()"
   ]
  },
  {
   "cell_type": "code",
   "execution_count": 41,
   "metadata": {},
   "outputs": [
    {
     "data": {
      "text/plain": [
       "array([[-1,  1,  1],\n",
       "       [-1,  1,  1],\n",
       "       [-1,  1,  1],\n",
       "       [-1, -1,  1],\n",
       "       [-1,  1,  1],\n",
       "       [-1, -1,  1],\n",
       "       [-1,  1, -1],\n",
       "       [ 1,  1,  1],\n",
       "       [ 1,  1, -1],\n",
       "       [ 1,  1,  1],\n",
       "       [ 1,  1,  1],\n",
       "       [ 1,  1,  1],\n",
       "       [ 1,  1,  1],\n",
       "       [-1,  1,  1],\n",
       "       [ 1, -1,  1],\n",
       "       [ 1, -1,  1],\n",
       "       [ 1, -1,  1],\n",
       "       [ 1, -1,  1],\n",
       "       [ 1, -1, -1],\n",
       "       [-1, -1, -1],\n",
       "       [-1, -1,  1],\n",
       "       [-1, -1,  1],\n",
       "       [-1, -1,  1],\n",
       "       [-1, -1, -1],\n",
       "       [-1,  1, -1],\n",
       "       [ 1, -1,  1],\n",
       "       [ 1, -1,  1],\n",
       "       [-1, -1, -1],\n",
       "       [-1, -1, -1],\n",
       "       [ 1, -1, -1],\n",
       "       [-1,  1, -1],\n",
       "       [ 1, -1,  1],\n",
       "       [ 1, -1, -1],\n",
       "       [ 1, -1, -1]])"
      ]
     },
     "execution_count": 41,
     "metadata": {},
     "output_type": "execute_result"
    }
   ],
   "source": [
    "# 数据是类别标签，要将它转换为数据\n",
    "# 1 表示“好”、“是”、“高”，-1 表示“坏”、“否”、“低”\n",
    "data = data.replace(['好', '是', '高'], 1)\n",
    "data = data.replace(['坏', '否', '低'], -1)\n",
    "data.head()\n",
    "\n",
    "x = data.loc[:, '天气':'是否有促销'].as_matrix().astype(int)\n",
    "y = data.loc[:, '销量'].as_matrix().astype(int)\n",
    "x"
   ]
  },
  {
   "cell_type": "code",
   "execution_count": 38,
   "metadata": {},
   "outputs": [
    {
     "data": {
      "text/plain": [
       "DecisionTreeClassifier(class_weight=None, criterion='entropy', max_depth=None,\n",
       "            max_features=None, max_leaf_nodes=None,\n",
       "            min_impurity_decrease=0.0, min_impurity_split=None,\n",
       "            min_samples_leaf=1, min_samples_split=2,\n",
       "            min_weight_fraction_leaf=0.0, presort=False, random_state=None,\n",
       "            splitter='best')"
      ]
     },
     "execution_count": 38,
     "metadata": {},
     "output_type": "execute_result"
    }
   ],
   "source": [
    "from sklearn.tree import DecisionTreeClassifier as DTC\n",
    "dtc = DTC(criterion='entropy')  # 建立决策树模型，基于信息熵\n",
    "dtc.fit(x, y)  # 训练模型"
   ]
  },
  {
   "cell_type": "code",
   "execution_count": 39,
   "metadata": {},
   "outputs": [
    {
     "ename": "AttributeError",
     "evalue": "'numpy.ndarray' object has no attribute 'columns'",
     "output_type": "error",
     "traceback": [
      "\u001b[1;31m---------------------------------------------------------------------------\u001b[0m",
      "\u001b[1;31mAttributeError\u001b[0m                            Traceback (most recent call last)",
      "\u001b[1;32m<ipython-input-39-0db0aa4dce98>\u001b[0m in \u001b[0;36m<module>\u001b[1;34m()\u001b[0m\n\u001b[0;32m      4\u001b[0m \u001b[1;32mfrom\u001b[0m \u001b[0msklearn\u001b[0m\u001b[1;33m.\u001b[0m\u001b[0mexternals\u001b[0m\u001b[1;33m.\u001b[0m\u001b[0msix\u001b[0m \u001b[1;32mimport\u001b[0m \u001b[0mStringIO\u001b[0m\u001b[1;33m\u001b[0m\u001b[0m\n\u001b[0;32m      5\u001b[0m \u001b[1;32mwith\u001b[0m \u001b[0mopen\u001b[0m\u001b[1;33m(\u001b[0m\u001b[1;34m'./tree.dot'\u001b[0m\u001b[1;33m,\u001b[0m \u001b[1;34m'w'\u001b[0m\u001b[1;33m)\u001b[0m \u001b[1;32mas\u001b[0m \u001b[0mf\u001b[0m\u001b[1;33m:\u001b[0m\u001b[1;33m\u001b[0m\u001b[0m\n\u001b[1;32m----> 6\u001b[1;33m     \u001b[0mf\u001b[0m \u001b[1;33m=\u001b[0m \u001b[0mexport_graphviz\u001b[0m\u001b[1;33m(\u001b[0m\u001b[0mdtc\u001b[0m\u001b[1;33m,\u001b[0m \u001b[0mfeature_names\u001b[0m\u001b[1;33m=\u001b[0m\u001b[0mx\u001b[0m\u001b[1;33m.\u001b[0m\u001b[0mcolumns\u001b[0m\u001b[1;33m,\u001b[0m \u001b[0mour_file\u001b[0m\u001b[1;33m=\u001b[0m\u001b[0mf\u001b[0m\u001b[1;33m)\u001b[0m\u001b[1;33m\u001b[0m\u001b[0m\n\u001b[0m",
      "\u001b[1;31mAttributeError\u001b[0m: 'numpy.ndarray' object has no attribute 'columns'"
     ]
    }
   ],
   "source": [
    "# 导入相关函数，可视化决策树\n",
    "# 导出的结果是 doc 文件，需要安装 Graphviz 才能将它转换为 PDF 或 png 等格式\n",
    "from sklearn.tree import export_graphviz\n",
    "from sklearn.externals.six import StringIO\n",
    "with open('./tree.dot', 'w') as f:\n",
    "    f = export_graphviz(dtc, feature_names=x.columns, our_file=f)"
   ]
  }
 ],
 "metadata": {
  "kernelspec": {
   "display_name": "Python 3",
   "language": "python",
   "name": "python3"
  },
  "language_info": {
   "codemirror_mode": {
    "name": "ipython",
    "version": 3
   },
   "file_extension": ".py",
   "mimetype": "text/x-python",
   "name": "python",
   "nbconvert_exporter": "python",
   "pygments_lexer": "ipython3",
   "version": "3.6.4"
  }
 },
 "nbformat": 4,
 "nbformat_minor": 2
}
